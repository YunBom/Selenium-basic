{
 "cells": [
  {
   "cell_type": "code",
   "execution_count": 27,
   "metadata": {},
   "outputs": [],
   "source": [
    "from selenium import webdriver\n",
    "from selenium.webdriver.common.by import By\n",
    "from selenium.webdriver.common.keys import Keys\n",
    "\n",
    "driver = webdriver.Chrome()\n",
    "driver.get(\"https://google.com\")"
   ]
  },
  {
   "cell_type": "code",
   "execution_count": 28,
   "metadata": {},
   "outputs": [],
   "source": [
    "search_bar = driver.find_element(By.CLASS_NAME, \"gLFyf\")\n",
    "search_bar.send_keys(\"hello!\")\n",
    "search_bar.send_keys(Keys.ENTER)"
   ]
  },
  {
   "cell_type": "code",
   "execution_count": 30,
   "metadata": {},
   "outputs": [
    {
     "name": "stdout",
     "output_type": "stream",
     "text": [
      "[<selenium.webdriver.remote.webelement.WebElement (session=\"499b2b8ae32b0ed4371abbabdb77ad9c\", element=\"42c7bf3a-ae05-40c1-b7fa-7c65d07f2ae1\")>, <selenium.webdriver.remote.webelement.WebElement (session=\"499b2b8ae32b0ed4371abbabdb77ad9c\", element=\"169b3aa2-5f86-41e2-ac74-66108b93b459\")>, <selenium.webdriver.remote.webelement.WebElement (session=\"499b2b8ae32b0ed4371abbabdb77ad9c\", element=\"8986a64d-472a-4df4-94bf-38ce390fd7d9\")>, <selenium.webdriver.remote.webelement.WebElement (session=\"499b2b8ae32b0ed4371abbabdb77ad9c\", element=\"bfa5b639-bdf6-4799-8c16-d39d7f27a276\")>, <selenium.webdriver.remote.webelement.WebElement (session=\"499b2b8ae32b0ed4371abbabdb77ad9c\", element=\"f62a8aae-ddaf-4c2c-8d03-abcf470de668\")>, <selenium.webdriver.remote.webelement.WebElement (session=\"499b2b8ae32b0ed4371abbabdb77ad9c\", element=\"fb3ec9d3-a478-42b3-b25a-b285f702bf71\")>, <selenium.webdriver.remote.webelement.WebElement (session=\"499b2b8ae32b0ed4371abbabdb77ad9c\", element=\"22f21768-0f29-4afd-a9a1-fddebb2193c6\")>, <selenium.webdriver.remote.webelement.WebElement (session=\"499b2b8ae32b0ed4371abbabdb77ad9c\", element=\"cbe5a04a-f440-49ad-8a59-52adf4d98c72\")>, <selenium.webdriver.remote.webelement.WebElement (session=\"499b2b8ae32b0ed4371abbabdb77ad9c\", element=\"311f3ec8-91d5-408b-aa68-fe8af2038dd7\")>, <selenium.webdriver.remote.webelement.WebElement (session=\"499b2b8ae32b0ed4371abbabdb77ad9c\", element=\"6e7afa44-25ff-4ddc-a521-bc1ceeb2f86a\")>]\n"
     ]
    }
   ],
   "source": [
    "search_results = driver.find_elements(By.CLASS_NAME, \"MjjYud\")\n",
    "print(search_results)"
   ]
  },
  {
   "cell_type": "code",
   "execution_count": null,
   "metadata": {},
   "outputs": [],
   "source": []
  }
 ],
 "metadata": {
  "kernelspec": {
   "display_name": "Python 3",
   "language": "python",
   "name": "python3"
  },
  "language_info": {
   "codemirror_mode": {
    "name": "ipython",
    "version": 3
   },
   "file_extension": ".py",
   "mimetype": "text/x-python",
   "name": "python",
   "nbconvert_exporter": "python",
   "pygments_lexer": "ipython3",
   "version": "3.11.0"
  },
  "orig_nbformat": 4,
  "vscode": {
   "interpreter": {
    "hash": "39cf8fd06e0ed46fde681d64c459dd0a8696ebe7f424cafe1b9edd0d2ab1fe97"
   }
  }
 },
 "nbformat": 4,
 "nbformat_minor": 2
}
