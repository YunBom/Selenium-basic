{
 "cells": [
  {
   "cell_type": "code",
   "execution_count": 3,
   "metadata": {},
   "outputs": [
    {
     "data": {
      "text/plain": [
       "<selenium.webdriver.remote.webelement.WebElement (session=\"a4fa08da1dc05bf3439d562f5b173305\", element=\"34d6dc57-c476-4727-a16e-d41e655a71c3\")>"
      ]
     },
     "execution_count": 3,
     "metadata": {},
     "output_type": "execute_result"
    }
   ],
   "source": [
    "# WebDriver API : https://selenium-python.readthedocs.io/api.html\n",
    "\n",
    "from selenium import webdriver\n",
    "from selenium.webdriver.common.by import By\n",
    "from selenium.webdriver.common.keys import Keys\n",
    "\n",
    "keyword = \"buy domain\"\n",
    "\n",
    "driver = webdriver.Chrome()\n",
    "driver.get(\"https://google.com\")\n",
    "search_bar = driver.find_element(By.CLASS_NAME, \"gLFyf\")\n",
    "search_bar.send_keys(keyword)\n",
    "search_bar.send_keys(Keys.ENTER)\n"
   ]
  },
  {
   "cell_type": "code",
   "execution_count": 10,
   "metadata": {},
   "outputs": [
    {
     "data": {
      "text/plain": [
       "<selenium.webdriver.remote.webelement.WebElement (session=\"a4fa08da1dc05bf3439d562f5b173305\", element=\"34d6dc57-c476-4727-a16e-d41e655a71c3\")>"
      ]
     },
     "execution_count": 10,
     "metadata": {},
     "output_type": "execute_result"
    }
   ],
   "source": [
    "search_results = driver.find_elements(By.CLASS_NAME, \"MjjYud\")\n",
    "search_results.pop(0)"
   ]
  },
  {
   "cell_type": "code",
   "execution_count": 12,
   "metadata": {},
   "outputs": [
    {
     "name": "stdout",
     "output_type": "stream",
     "text": [
      "Hello(Adele) - 나무위키:대문\n",
      "Hello (아델의 노래) - 위키백과, 우리 모두의 백과사전\n",
      "Hello (feat. 버벌진트)/조용필 - 벅스\n",
      "HELLO | Cambridge English Dictionary에서의 의미\n",
      "HELLO! - Daily royal, celebrity, fashion, beauty & lifestyle news\n"
     ]
    },
    {
     "ename": "NoSuchElementException",
     "evalue": "Message: no such element: Unable to locate element: {\"method\":\"tag name\",\"selector\":\"h3\"}\n  (Session info: chrome=108.0.5359.125)\nStacktrace:\nBacktrace:\n\tOrdinal0 [0x00A08CE3+2067683]\n\tOrdinal0 [0x0099CBC1+1625025]\n\tOrdinal0 [0x0089B7CD+571341]\n\tOrdinal0 [0x008CAC4F+765007]\n\tOrdinal0 [0x008CAE3B+765499]\n\tOrdinal0 [0x008C16A1+726689]\n\tOrdinal0 [0x008E7384+881540]\n\tOrdinal0 [0x008C15DF+726495]\n\tOrdinal0 [0x008E7554+882004]\n\tOrdinal0 [0x008FB576+963958]\n\tOrdinal0 [0x008E7156+880982]\n\tOrdinal0 [0x008BFF1D+720669]\n\tOrdinal0 [0x008C0F5F+724831]\n\tGetHandleVerifier [0x00CBF162+2771330]\n\tGetHandleVerifier [0x00CB1145+2713957]\n\tGetHandleVerifier [0x00A9CC0A+533546]\n\tGetHandleVerifier [0x00A9B970+528784]\n\tOrdinal0 [0x009A4F4C+1658700]\n\tOrdinal0 [0x009A98B8+1677496]\n\tOrdinal0 [0x009A99A5+1677733]\n\tOrdinal0 [0x009B4CC4+1723588]\n\tBaseThreadInitThunk [0x762A7D69+25]\n\tRtlInitializeExceptionChain [0x7788BB9B+107]\n\tRtlClearBits [0x7788BB1F+191]\n",
     "output_type": "error",
     "traceback": [
      "\u001b[1;31m---------------------------------------------------------------------------\u001b[0m",
      "\u001b[1;31mNoSuchElementException\u001b[0m                    Traceback (most recent call last)",
      "Cell \u001b[1;32mIn[12], line 2\u001b[0m\n\u001b[0;32m      1\u001b[0m \u001b[39mfor\u001b[39;00m search_result \u001b[39min\u001b[39;00m search_results:\n\u001b[1;32m----> 2\u001b[0m     title \u001b[39m=\u001b[39m search_result\u001b[39m.\u001b[39;49mfind_element(By\u001b[39m.\u001b[39;49mTAG_NAME, \u001b[39m'\u001b[39;49m\u001b[39mh3\u001b[39;49m\u001b[39m'\u001b[39;49m)\u001b[39m.\u001b[39mtext\n\u001b[0;32m      3\u001b[0m     \u001b[39mif\u001b[39;00m title :\n\u001b[0;32m      4\u001b[0m         \u001b[39mprint\u001b[39m(title)\n",
      "File \u001b[1;32mc:\\Users\\BomYi\\AppData\\Local\\Programs\\Python\\Python311\\Lib\\site-packages\\selenium\\webdriver\\remote\\webelement.py:433\u001b[0m, in \u001b[0;36mWebElement.find_element\u001b[1;34m(self, by, value)\u001b[0m\n\u001b[0;32m    430\u001b[0m     by \u001b[39m=\u001b[39m By\u001b[39m.\u001b[39mCSS_SELECTOR\n\u001b[0;32m    431\u001b[0m     value \u001b[39m=\u001b[39m \u001b[39m'\u001b[39m\u001b[39m[name=\u001b[39m\u001b[39m\"\u001b[39m\u001b[39m%s\u001b[39;00m\u001b[39m\"\u001b[39m\u001b[39m]\u001b[39m\u001b[39m'\u001b[39m \u001b[39m%\u001b[39m value\n\u001b[1;32m--> 433\u001b[0m \u001b[39mreturn\u001b[39;00m \u001b[39mself\u001b[39;49m\u001b[39m.\u001b[39;49m_execute(Command\u001b[39m.\u001b[39;49mFIND_CHILD_ELEMENT, {\u001b[39m\"\u001b[39;49m\u001b[39musing\u001b[39;49m\u001b[39m\"\u001b[39;49m: by, \u001b[39m\"\u001b[39;49m\u001b[39mvalue\u001b[39;49m\u001b[39m\"\u001b[39;49m: value})[\u001b[39m\"\u001b[39m\u001b[39mvalue\u001b[39m\u001b[39m\"\u001b[39m]\n",
      "File \u001b[1;32mc:\\Users\\BomYi\\AppData\\Local\\Programs\\Python\\Python311\\Lib\\site-packages\\selenium\\webdriver\\remote\\webelement.py:410\u001b[0m, in \u001b[0;36mWebElement._execute\u001b[1;34m(self, command, params)\u001b[0m\n\u001b[0;32m    408\u001b[0m     params \u001b[39m=\u001b[39m {}\n\u001b[0;32m    409\u001b[0m params[\u001b[39m\"\u001b[39m\u001b[39mid\u001b[39m\u001b[39m\"\u001b[39m] \u001b[39m=\u001b[39m \u001b[39mself\u001b[39m\u001b[39m.\u001b[39m_id\n\u001b[1;32m--> 410\u001b[0m \u001b[39mreturn\u001b[39;00m \u001b[39mself\u001b[39;49m\u001b[39m.\u001b[39;49m_parent\u001b[39m.\u001b[39;49mexecute(command, params)\n",
      "File \u001b[1;32mc:\\Users\\BomYi\\AppData\\Local\\Programs\\Python\\Python311\\Lib\\site-packages\\selenium\\webdriver\\remote\\webdriver.py:444\u001b[0m, in \u001b[0;36mWebDriver.execute\u001b[1;34m(self, driver_command, params)\u001b[0m\n\u001b[0;32m    442\u001b[0m response \u001b[39m=\u001b[39m \u001b[39mself\u001b[39m\u001b[39m.\u001b[39mcommand_executor\u001b[39m.\u001b[39mexecute(driver_command, params)\n\u001b[0;32m    443\u001b[0m \u001b[39mif\u001b[39;00m response:\n\u001b[1;32m--> 444\u001b[0m     \u001b[39mself\u001b[39;49m\u001b[39m.\u001b[39;49merror_handler\u001b[39m.\u001b[39;49mcheck_response(response)\n\u001b[0;32m    445\u001b[0m     response[\u001b[39m\"\u001b[39m\u001b[39mvalue\u001b[39m\u001b[39m\"\u001b[39m] \u001b[39m=\u001b[39m \u001b[39mself\u001b[39m\u001b[39m.\u001b[39m_unwrap_value(response\u001b[39m.\u001b[39mget(\u001b[39m\"\u001b[39m\u001b[39mvalue\u001b[39m\u001b[39m\"\u001b[39m, \u001b[39mNone\u001b[39;00m))\n\u001b[0;32m    446\u001b[0m     \u001b[39mreturn\u001b[39;00m response\n",
      "File \u001b[1;32mc:\\Users\\BomYi\\AppData\\Local\\Programs\\Python\\Python311\\Lib\\site-packages\\selenium\\webdriver\\remote\\errorhandler.py:249\u001b[0m, in \u001b[0;36mErrorHandler.check_response\u001b[1;34m(self, response)\u001b[0m\n\u001b[0;32m    247\u001b[0m         alert_text \u001b[39m=\u001b[39m value[\u001b[39m\"\u001b[39m\u001b[39malert\u001b[39m\u001b[39m\"\u001b[39m]\u001b[39m.\u001b[39mget(\u001b[39m\"\u001b[39m\u001b[39mtext\u001b[39m\u001b[39m\"\u001b[39m)\n\u001b[0;32m    248\u001b[0m     \u001b[39mraise\u001b[39;00m exception_class(message, screen, stacktrace, alert_text)  \u001b[39m# type: ignore[call-arg]  # mypy is not smart enough here\u001b[39;00m\n\u001b[1;32m--> 249\u001b[0m \u001b[39mraise\u001b[39;00m exception_class(message, screen, stacktrace)\n",
      "\u001b[1;31mNoSuchElementException\u001b[0m: Message: no such element: Unable to locate element: {\"method\":\"tag name\",\"selector\":\"h3\"}\n  (Session info: chrome=108.0.5359.125)\nStacktrace:\nBacktrace:\n\tOrdinal0 [0x00A08CE3+2067683]\n\tOrdinal0 [0x0099CBC1+1625025]\n\tOrdinal0 [0x0089B7CD+571341]\n\tOrdinal0 [0x008CAC4F+765007]\n\tOrdinal0 [0x008CAE3B+765499]\n\tOrdinal0 [0x008C16A1+726689]\n\tOrdinal0 [0x008E7384+881540]\n\tOrdinal0 [0x008C15DF+726495]\n\tOrdinal0 [0x008E7554+882004]\n\tOrdinal0 [0x008FB576+963958]\n\tOrdinal0 [0x008E7156+880982]\n\tOrdinal0 [0x008BFF1D+720669]\n\tOrdinal0 [0x008C0F5F+724831]\n\tGetHandleVerifier [0x00CBF162+2771330]\n\tGetHandleVerifier [0x00CB1145+2713957]\n\tGetHandleVerifier [0x00A9CC0A+533546]\n\tGetHandleVerifier [0x00A9B970+528784]\n\tOrdinal0 [0x009A4F4C+1658700]\n\tOrdinal0 [0x009A98B8+1677496]\n\tOrdinal0 [0x009A99A5+1677733]\n\tOrdinal0 [0x009B4CC4+1723588]\n\tBaseThreadInitThunk [0x762A7D69+25]\n\tRtlInitializeExceptionChain [0x7788BB9B+107]\n\tRtlClearBits [0x7788BB1F+191]\n"
     ]
    }
   ],
   "source": [
    "for index, search_result in enumerate(search_results):\n",
    "    search_result.screenshot(f\"screenshot/{keyword}{index}.png\")"
   ]
  },
  {
   "cell_type": "code",
   "execution_count": null,
   "metadata": {},
   "outputs": [],
   "source": []
  }
 ],
 "metadata": {
  "kernelspec": {
   "display_name": "Python 3",
   "language": "python",
   "name": "python3"
  },
  "language_info": {
   "codemirror_mode": {
    "name": "ipython",
    "version": 3
   },
   "file_extension": ".py",
   "mimetype": "text/x-python",
   "name": "python",
   "nbconvert_exporter": "python",
   "pygments_lexer": "ipython3",
   "version": "3.11.0"
  },
  "orig_nbformat": 4,
  "vscode": {
   "interpreter": {
    "hash": "39cf8fd06e0ed46fde681d64c459dd0a8696ebe7f424cafe1b9edd0d2ab1fe97"
   }
  }
 },
 "nbformat": 4,
 "nbformat_minor": 2
}
