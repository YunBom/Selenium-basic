{
 "cells": [
  {
   "cell_type": "code",
   "execution_count": 23,
   "metadata": {},
   "outputs": [],
   "source": [
    "# WebDriver API : https://selenium-python.readthedocs.io/api.html\n",
    "\n",
    "from selenium import webdriver\n",
    "from selenium.webdriver.common.by import By\n",
    "from selenium.webdriver.common.keys import Keys\n",
    "\n",
    "keyword = \"buy domain\"\n",
    "\n",
    "driver = webdriver.Chrome()\n",
    "driver.get(\"https://google.com\")\n",
    "search_bar = driver.find_element(By.CLASS_NAME, \"gLFyf\")\n",
    "search_bar.send_keys(keyword)\n",
    "search_bar.send_keys(Keys.ENTER)\n"
   ]
  },
  {
   "cell_type": "code",
   "execution_count": 24,
   "metadata": {},
   "outputs": [
    {
     "data": {
      "text/plain": [
       "<selenium.webdriver.remote.webelement.WebElement (session=\"4dcda4b1154adb9c082c313a2207a9c7\", element=\"d860359e-7e37-46ff-8766-71a9494878c3\")>"
      ]
     },
     "execution_count": 24,
     "metadata": {},
     "output_type": "execute_result"
    }
   ],
   "source": [
    "search_results = driver.find_elements(By.CLASS_NAME, \"MjjYud\")\n",
    "search_results.pop(3)"
   ]
  },
  {
   "cell_type": "code",
   "execution_count": 25,
   "metadata": {},
   "outputs": [],
   "source": [
    "for index, search_result in enumerate(search_results):\n",
    "    class_name = search_result.get_attribute('class')\n",
    "    # search_result.screenshot(f\"screenshots/{keyword}{index}.png\")"
   ]
  },
  {
   "cell_type": "code",
   "execution_count": null,
   "metadata": {},
   "outputs": [],
   "source": []
  }
 ],
 "metadata": {
  "kernelspec": {
   "display_name": "Python 3",
   "language": "python",
   "name": "python3"
  },
  "language_info": {
   "codemirror_mode": {
    "name": "ipython",
    "version": 3
   },
   "file_extension": ".py",
   "mimetype": "text/x-python",
   "name": "python",
   "nbconvert_exporter": "python",
   "pygments_lexer": "ipython3",
   "version": "3.11.0"
  },
  "orig_nbformat": 4,
  "vscode": {
   "interpreter": {
    "hash": "39cf8fd06e0ed46fde681d64c459dd0a8696ebe7f424cafe1b9edd0d2ab1fe97"
   }
  }
 },
 "nbformat": 4,
 "nbformat_minor": 2
}
