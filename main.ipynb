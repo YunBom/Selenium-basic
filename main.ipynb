{
 "cells": [
  {
   "cell_type": "code",
   "execution_count": 1,
   "metadata": {},
   "outputs": [],
   "source": [
    "from selenium import webdriver\n",
    "from selenium.webdriver.common.by import By\n",
    "from selenium.webdriver.common.keys import Keys\n",
    "\n",
    "driver = webdriver.Chrome()\n",
    "driver.get(\"https://google.com\")"
   ]
  },
  {
   "cell_type": "code",
   "execution_count": 2,
   "metadata": {},
   "outputs": [],
   "source": [
    "search_bar = driver.find_element(By.CLASS_NAME, \"gLFyf\")\n",
    "search_bar.send_keys(\"hello!\")\n",
    "search_bar.send_keys(Keys.ENTER)"
   ]
  },
  {
   "cell_type": "code",
   "execution_count": 14,
   "metadata": {},
   "outputs": [
    {
     "name": "stdout",
     "output_type": "stream",
     "text": [
      "[<selenium.webdriver.remote.webelement.WebElement (session=\"7ed64e2b4ce8cb9dd09b6148727f7fba\", element=\"a1e179c5-635e-49bd-8b29-2ea144a91cdd\")>, <selenium.webdriver.remote.webelement.WebElement (session=\"7ed64e2b4ce8cb9dd09b6148727f7fba\", element=\"ff17c4e7-e6ba-48fd-bbdb-b02be694b4ce\")>, <selenium.webdriver.remote.webelement.WebElement (session=\"7ed64e2b4ce8cb9dd09b6148727f7fba\", element=\"df6f5b11-9815-45c9-98a8-1f85e8785c5d\")>, <selenium.webdriver.remote.webelement.WebElement (session=\"7ed64e2b4ce8cb9dd09b6148727f7fba\", element=\"fccb1af1-bd0b-4de0-9f8e-dc9d2a6dcd8f\")>, <selenium.webdriver.remote.webelement.WebElement (session=\"7ed64e2b4ce8cb9dd09b6148727f7fba\", element=\"a1ea0108-a342-4f28-b586-0bcc9954ee14\")>, <selenium.webdriver.remote.webelement.WebElement (session=\"7ed64e2b4ce8cb9dd09b6148727f7fba\", element=\"e2913b77-f59d-403e-9611-1d4909cbbe26\")>, <selenium.webdriver.remote.webelement.WebElement (session=\"7ed64e2b4ce8cb9dd09b6148727f7fba\", element=\"c95ea72f-8812-4866-ac36-d37ff0f1d550\")>, <selenium.webdriver.remote.webelement.WebElement (session=\"7ed64e2b4ce8cb9dd09b6148727f7fba\", element=\"2b407440-173d-4887-9931-0b03ad340225\")>]\n"
     ]
    }
   ],
   "source": [
    "search_results = driver.find_elements(By.CLASS_NAME, \"MjjYud\")\n",
    "print(search_results)\n"
   ]
  },
  {
   "cell_type": "code",
   "execution_count": 7,
   "metadata": {},
   "outputs": [
    {
     "name": "stdout",
     "output_type": "stream",
     "text": [
      "<selenium.webdriver.remote.webelement.WebElement (session=\"7ed64e2b4ce8cb9dd09b6148727f7fba\", element=\"ce3a6c67-d4c9-43b9-8b25-d8b7f335a773\")>\n",
      "<selenium.webdriver.remote.webelement.WebElement (session=\"7ed64e2b4ce8cb9dd09b6148727f7fba\", element=\"fc251e06-03dc-44cf-99f1-82954b4d8850\")>\n",
      "<selenium.webdriver.remote.webelement.WebElement (session=\"7ed64e2b4ce8cb9dd09b6148727f7fba\", element=\"81ad4659-0bc2-4a7b-9dfa-4dea18cdbb5d\")>\n",
      "<selenium.webdriver.remote.webelement.WebElement (session=\"7ed64e2b4ce8cb9dd09b6148727f7fba\", element=\"159b2143-94cf-4e06-b499-f56f4d9aea71\")>\n",
      "<selenium.webdriver.remote.webelement.WebElement (session=\"7ed64e2b4ce8cb9dd09b6148727f7fba\", element=\"54cfff4c-3546-4280-8bf0-353854f4cf78\")>\n",
      "<selenium.webdriver.remote.webelement.WebElement (session=\"7ed64e2b4ce8cb9dd09b6148727f7fba\", element=\"4894ce80-3e6a-45ca-9707-1ca57c38a987\")>\n",
      "<selenium.webdriver.remote.webelement.WebElement (session=\"7ed64e2b4ce8cb9dd09b6148727f7fba\", element=\"d62bda35-0892-4f26-9a93-32081075da33\")>\n"
     ]
    },
    {
     "ename": "NoSuchElementException",
     "evalue": "Message: no such element: Unable to locate element: {\"method\":\"tag name\",\"selector\":\"h3\"}\n  (Session info: chrome=108.0.5359.125)\nStacktrace:\nBacktrace:\n\tOrdinal0 [0x00B68CE3+2067683]\n\tOrdinal0 [0x00AFCBC1+1625025]\n\tOrdinal0 [0x009FB7CD+571341]\n\tOrdinal0 [0x00A2AC4F+765007]\n\tOrdinal0 [0x00A2AE3B+765499]\n\tOrdinal0 [0x00A216A1+726689]\n\tOrdinal0 [0x00A47384+881540]\n\tOrdinal0 [0x00A215DF+726495]\n\tOrdinal0 [0x00A47554+882004]\n\tOrdinal0 [0x00A5B576+963958]\n\tOrdinal0 [0x00A47156+880982]\n\tOrdinal0 [0x00A1FF1D+720669]\n\tOrdinal0 [0x00A20F5F+724831]\n\tGetHandleVerifier [0x00E1F162+2771330]\n\tGetHandleVerifier [0x00E11145+2713957]\n\tGetHandleVerifier [0x00BFCC0A+533546]\n\tGetHandleVerifier [0x00BFB970+528784]\n\tOrdinal0 [0x00B04F4C+1658700]\n\tOrdinal0 [0x00B098B8+1677496]\n\tOrdinal0 [0x00B099A5+1677733]\n\tOrdinal0 [0x00B14CC4+1723588]\n\tBaseThreadInitThunk [0x76717D69+25]\n\tRtlInitializeExceptionChain [0x7765BB9B+107]\n\tRtlClearBits [0x7765BB1F+191]\n",
     "output_type": "error",
     "traceback": [
      "\u001b[1;31m---------------------------------------------------------------------------\u001b[0m",
      "\u001b[1;31mNoSuchElementException\u001b[0m                    Traceback (most recent call last)",
      "Cell \u001b[1;32mIn[7], line 2\u001b[0m\n\u001b[0;32m      1\u001b[0m \u001b[39mfor\u001b[39;00m search_result \u001b[39min\u001b[39;00m search_results:\n\u001b[1;32m----> 2\u001b[0m     title \u001b[39m=\u001b[39m search_result\u001b[39m.\u001b[39;49mfind_element(By\u001b[39m.\u001b[39;49mTAG_NAME, \u001b[39m'\u001b[39;49m\u001b[39mh3\u001b[39;49m\u001b[39m'\u001b[39;49m)\n\u001b[0;32m      3\u001b[0m     \u001b[39mprint\u001b[39m(title)\n",
      "File \u001b[1;32mc:\\Users\\BomYi\\AppData\\Local\\Programs\\Python\\Python311\\Lib\\site-packages\\selenium\\webdriver\\remote\\webelement.py:433\u001b[0m, in \u001b[0;36mWebElement.find_element\u001b[1;34m(self, by, value)\u001b[0m\n\u001b[0;32m    430\u001b[0m     by \u001b[39m=\u001b[39m By\u001b[39m.\u001b[39mCSS_SELECTOR\n\u001b[0;32m    431\u001b[0m     value \u001b[39m=\u001b[39m \u001b[39m'\u001b[39m\u001b[39m[name=\u001b[39m\u001b[39m\"\u001b[39m\u001b[39m%s\u001b[39;00m\u001b[39m\"\u001b[39m\u001b[39m]\u001b[39m\u001b[39m'\u001b[39m \u001b[39m%\u001b[39m value\n\u001b[1;32m--> 433\u001b[0m \u001b[39mreturn\u001b[39;00m \u001b[39mself\u001b[39;49m\u001b[39m.\u001b[39;49m_execute(Command\u001b[39m.\u001b[39;49mFIND_CHILD_ELEMENT, {\u001b[39m\"\u001b[39;49m\u001b[39musing\u001b[39;49m\u001b[39m\"\u001b[39;49m: by, \u001b[39m\"\u001b[39;49m\u001b[39mvalue\u001b[39;49m\u001b[39m\"\u001b[39;49m: value})[\u001b[39m\"\u001b[39m\u001b[39mvalue\u001b[39m\u001b[39m\"\u001b[39m]\n",
      "File \u001b[1;32mc:\\Users\\BomYi\\AppData\\Local\\Programs\\Python\\Python311\\Lib\\site-packages\\selenium\\webdriver\\remote\\webelement.py:410\u001b[0m, in \u001b[0;36mWebElement._execute\u001b[1;34m(self, command, params)\u001b[0m\n\u001b[0;32m    408\u001b[0m     params \u001b[39m=\u001b[39m {}\n\u001b[0;32m    409\u001b[0m params[\u001b[39m\"\u001b[39m\u001b[39mid\u001b[39m\u001b[39m\"\u001b[39m] \u001b[39m=\u001b[39m \u001b[39mself\u001b[39m\u001b[39m.\u001b[39m_id\n\u001b[1;32m--> 410\u001b[0m \u001b[39mreturn\u001b[39;00m \u001b[39mself\u001b[39;49m\u001b[39m.\u001b[39;49m_parent\u001b[39m.\u001b[39;49mexecute(command, params)\n",
      "File \u001b[1;32mc:\\Users\\BomYi\\AppData\\Local\\Programs\\Python\\Python311\\Lib\\site-packages\\selenium\\webdriver\\remote\\webdriver.py:444\u001b[0m, in \u001b[0;36mWebDriver.execute\u001b[1;34m(self, driver_command, params)\u001b[0m\n\u001b[0;32m    442\u001b[0m response \u001b[39m=\u001b[39m \u001b[39mself\u001b[39m\u001b[39m.\u001b[39mcommand_executor\u001b[39m.\u001b[39mexecute(driver_command, params)\n\u001b[0;32m    443\u001b[0m \u001b[39mif\u001b[39;00m response:\n\u001b[1;32m--> 444\u001b[0m     \u001b[39mself\u001b[39;49m\u001b[39m.\u001b[39;49merror_handler\u001b[39m.\u001b[39;49mcheck_response(response)\n\u001b[0;32m    445\u001b[0m     response[\u001b[39m\"\u001b[39m\u001b[39mvalue\u001b[39m\u001b[39m\"\u001b[39m] \u001b[39m=\u001b[39m \u001b[39mself\u001b[39m\u001b[39m.\u001b[39m_unwrap_value(response\u001b[39m.\u001b[39mget(\u001b[39m\"\u001b[39m\u001b[39mvalue\u001b[39m\u001b[39m\"\u001b[39m, \u001b[39mNone\u001b[39;00m))\n\u001b[0;32m    446\u001b[0m     \u001b[39mreturn\u001b[39;00m response\n",
      "File \u001b[1;32mc:\\Users\\BomYi\\AppData\\Local\\Programs\\Python\\Python311\\Lib\\site-packages\\selenium\\webdriver\\remote\\errorhandler.py:249\u001b[0m, in \u001b[0;36mErrorHandler.check_response\u001b[1;34m(self, response)\u001b[0m\n\u001b[0;32m    247\u001b[0m         alert_text \u001b[39m=\u001b[39m value[\u001b[39m\"\u001b[39m\u001b[39malert\u001b[39m\u001b[39m\"\u001b[39m]\u001b[39m.\u001b[39mget(\u001b[39m\"\u001b[39m\u001b[39mtext\u001b[39m\u001b[39m\"\u001b[39m)\n\u001b[0;32m    248\u001b[0m     \u001b[39mraise\u001b[39;00m exception_class(message, screen, stacktrace, alert_text)  \u001b[39m# type: ignore[call-arg]  # mypy is not smart enough here\u001b[39;00m\n\u001b[1;32m--> 249\u001b[0m \u001b[39mraise\u001b[39;00m exception_class(message, screen, stacktrace)\n",
      "\u001b[1;31mNoSuchElementException\u001b[0m: Message: no such element: Unable to locate element: {\"method\":\"tag name\",\"selector\":\"h3\"}\n  (Session info: chrome=108.0.5359.125)\nStacktrace:\nBacktrace:\n\tOrdinal0 [0x00B68CE3+2067683]\n\tOrdinal0 [0x00AFCBC1+1625025]\n\tOrdinal0 [0x009FB7CD+571341]\n\tOrdinal0 [0x00A2AC4F+765007]\n\tOrdinal0 [0x00A2AE3B+765499]\n\tOrdinal0 [0x00A216A1+726689]\n\tOrdinal0 [0x00A47384+881540]\n\tOrdinal0 [0x00A215DF+726495]\n\tOrdinal0 [0x00A47554+882004]\n\tOrdinal0 [0x00A5B576+963958]\n\tOrdinal0 [0x00A47156+880982]\n\tOrdinal0 [0x00A1FF1D+720669]\n\tOrdinal0 [0x00A20F5F+724831]\n\tGetHandleVerifier [0x00E1F162+2771330]\n\tGetHandleVerifier [0x00E11145+2713957]\n\tGetHandleVerifier [0x00BFCC0A+533546]\n\tGetHandleVerifier [0x00BFB970+528784]\n\tOrdinal0 [0x00B04F4C+1658700]\n\tOrdinal0 [0x00B098B8+1677496]\n\tOrdinal0 [0x00B099A5+1677733]\n\tOrdinal0 [0x00B14CC4+1723588]\n\tBaseThreadInitThunk [0x76717D69+25]\n\tRtlInitializeExceptionChain [0x7765BB9B+107]\n\tRtlClearBits [0x7765BB1F+191]\n"
     ]
    }
   ],
   "source": [
    "for search_result in search_results:\n",
    "    title = search_result.find_element(By.TAG_NAME, 'h3')\n",
    "    print(title)"
   ]
  }
 ],
 "metadata": {
  "kernelspec": {
   "display_name": "Python 3",
   "language": "python",
   "name": "python3"
  },
  "language_info": {
   "codemirror_mode": {
    "name": "ipython",
    "version": 3
   },
   "file_extension": ".py",
   "mimetype": "text/x-python",
   "name": "python",
   "nbconvert_exporter": "python",
   "pygments_lexer": "ipython3",
   "version": "3.11.0"
  },
  "orig_nbformat": 4,
  "vscode": {
   "interpreter": {
    "hash": "39cf8fd06e0ed46fde681d64c459dd0a8696ebe7f424cafe1b9edd0d2ab1fe97"
   }
  }
 },
 "nbformat": 4,
 "nbformat_minor": 2
}
